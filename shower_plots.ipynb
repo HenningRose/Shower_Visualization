{
 "cells": [
  {
   "cell_type": "code",
   "execution_count": null,
   "metadata": {},
   "outputs": [
    {
     "ename": "",
     "evalue": "",
     "output_type": "error",
     "traceback": [
      "\u001b[1;31mFailed to start the Kernel. \n",
      "\u001b[1;31mJupyter notebook failed to launch. \n",
      "\u001b[1;31mKernel not initialized in Session. \n",
      "\u001b[1;31mView Jupyter <a href='command:jupyter.viewOutput'>log</a> for further details."
     ]
    }
   ],
   "source": [
    "import h5py\n",
    "import pandas as pd\n",
    "import matplotlib.pyplot as plt\n",
    "import numpy as np\n",
    "from mpl_toolkits.mplot3d import Axes3D\n",
    "from matplotlib.gridspec import GridSpec\n",
    "import math\n",
    "import seaborn as sns\n",
    "import scipy.ndimage.filters as filters "
   ]
  },
  {
   "cell_type": "code",
   "execution_count": null,
   "metadata": {},
   "outputs": [
    {
     "ename": "",
     "evalue": "",
     "output_type": "error",
     "traceback": [
      "\u001b[1;31mFailed to start the Kernel. \n",
      "\u001b[1;31mJupyter notebook failed to launch. \n",
      "\u001b[1;31mKernel not initialized in Session. \n",
      "\u001b[1;31mView Jupyter <a href='command:jupyter.viewOutput'>log</a> for further details."
     ]
    }
   ],
   "source": [
    "\n",
    "\n",
    "def plot_shower_data(file_path, filter_energy=60, threshold_energy=5):\n",
    "    with h5py.File(file_path, 'r') as f:\n",
    "        \n",
    "        #importing the total energy per shower\n",
    "        dataset_genE = f['genE']\n",
    "        data_genE = dataset_genE[:]\n",
    "        energy_total = data_genE[:]\n",
    "    \n",
    "        \n",
    "        #importing the showers\n",
    "        dataset_showers = f['showers']\n",
    "        data_showers = dataset_showers[:]\n",
    "        \n",
    "        #extracting the size of the showers\n",
    "        size_of_event = len(data_showers[0])\n",
    "        \n",
    "        # Filter the data based on energy range\n",
    "        is_in_range = np.abs(energy_total - filter_energy) <= threshold_energy\n",
    "        selected_indices = np.where(is_in_range)[0]\n",
    "        filtered_data = data_showers[selected_indices]\n",
    "        \n",
    "        # Extract coordinates and energies\n",
    "        x_complete, y_complete, z_complete, energy_xyz_complete = [filtered_data[:, :, i] for i in range(4)]\n",
    "        x = x_complete[x_complete != 0]\n",
    "        y = y_complete[y_complete != 0]\n",
    "        z = z_complete[z_complete != 0]\n",
    "        xyz_bin_min = min(x)\n",
    "        xyz_bin_max = max(x)+2\n",
    "        \n",
    "        energy_xyz = energy_xyz_complete[energy_xyz_complete > 0]\n",
    "        \n",
    "        # Convert energy to MeV\n",
    "        energy_total_mev = energy_total * 1000\n",
    "        \n",
    "        # Plotting the distributions\n",
    "        fig = plt.figure(figsize=(18, 12), facecolor='white')\n",
    "        fig.suptitle(f'Projected {filter_energy}GeV Showers', fontsize=30)\n",
    "        gs = GridSpec(2, 3)\n",
    "\n",
    "        # Energy Histogram\n",
    "        ax0 = fig.add_subplot(gs[0])\n",
    "        ax0.set_title('Visible Energy')\n",
    "        ax0.hist(energy_xyz, bins=np.logspace(np.log(0.1), np.log(max(energy_xyz)), 150, base=np.e), histtype='stepfilled', lw=2, alpha=1., color='silver')\n",
    "        ax0.set_xlabel('Visible energy (MeV)')\n",
    "        ax0.set_ylabel('a.u.')\n",
    "        ax0.set_xscale('log')\n",
    "        ax0.set_yscale('log')\n",
    "\n",
    "        # Energy Sum Histogram\n",
    "        ax1 = fig.add_subplot(gs[1])\n",
    "        ax1.set_title('Energy Sum')\n",
    "        ax1.hist(energy_xyz_complete.reshape(-1, size_of_event).sum(-1), bins=50, histtype='stepfilled', lw=2, alpha=1., color='silver')\n",
    "        ax1.set_xlabel('Visible energy sum (MeV)')\n",
    "        ax1.set_ylabel('a.u.')\n",
    "\n",
    "        # Number of Hits Histogram\n",
    "        ax2 = fig.add_subplot(gs[2])\n",
    "        ax2.set_title('Number of Hits')\n",
    "        n_hits = (energy_xyz_complete != 0).reshape(-1, size_of_event).sum(axis=1)\n",
    "        ax2.hist(n_hits, bins=50, histtype='stepfilled', lw=2, alpha=1., color='silver')\n",
    "        ax2.set_xlabel('n_hits')\n",
    "        ax2.set_ylabel('a.u.')\n",
    "\n",
    "        step =  math.ceil(xyz_bin_max/11)\n",
    "        # X Distribution\n",
    "        ax3 = fig.add_subplot(gs[3])\n",
    "        ax3.set_title('[X] distribution')\n",
    "        ax3.hist(x, bins=np.arange(xyz_bin_min, xyz_bin_max), histtype='stepfilled', lw=2, alpha=1., color='silver')\n",
    "        ax3.set_xlabel('X')\n",
    "        ax3.set_ylabel('Number of hits')\n",
    "        ax3.set_xticks(np.arange(xyz_bin_min, xyz_bin_max,step))\n",
    "\n",
    "        # Y Distribution\n",
    "        ax4 = fig.add_subplot(gs[4])\n",
    "        ax4.set_title('[Y] distribution')\n",
    "        ax4.hist(y, bins=np.arange(xyz_bin_min, xyz_bin_max), histtype='stepfilled', lw=2, alpha=1., color='silver')\n",
    "        ax4.set_xlabel('Y')\n",
    "        ax4.set_ylabel('Number of hits')\n",
    "        ax4.set_xticks(np.arange(xyz_bin_min, xyz_bin_max,step))\n",
    "\n",
    "        # Z Distribution\n",
    "        ax5 = fig.add_subplot(gs[5])\n",
    "        ax5.set_title('[Z] distribution')\n",
    "        ax5.hist(z, bins=np.arange(xyz_bin_min, xyz_bin_max), histtype='stepfilled', lw=2, alpha=1., color='silver')\n",
    "        ax5.set_xlabel('Z')\n",
    "        ax5.set_ylabel('Number of hits')\n",
    "        ax5.set_xticks(np.arange(xyz_bin_min, xyz_bin_max,step))\n",
    "\n",
    "        fig.tight_layout()\n",
    "        plt.show()\n",
    "        fig.savefig(f'./plots/{filter_energy}GeV_showers_{size_of_event}_points.pdf')\n"
   ]
  },
  {
   "cell_type": "code",
   "execution_count": null,
   "metadata": {},
   "outputs": [
    {
     "ename": "",
     "evalue": "",
     "output_type": "error",
     "traceback": [
      "\u001b[1;31mFailed to start the Kernel. \n",
      "\u001b[1;31mJupyter notebook failed to launch. \n",
      "\u001b[1;31mKernel not initialized in Session. \n",
      "\u001b[1;31mView Jupyter <a href='command:jupyter.viewOutput'>log</a> for further details."
     ]
    }
   ],
   "source": [
    "#Plot for the 500 event showers\n",
    "file_path_500 = '/beegfs/desy/user/korcariw/multiRes_CaloClouds/dataset/showers/photons_10_100GeV_10bins_showers_train.h5'\n",
    "plot_shower_data(file_path_500)"
   ]
  },
  {
   "cell_type": "code",
   "execution_count": null,
   "metadata": {},
   "outputs": [
    {
     "ename": "",
     "evalue": "",
     "output_type": "error",
     "traceback": [
      "\u001b[1;31mFailed to start the Kernel. \n",
      "\u001b[1;31mJupyter notebook failed to launch. \n",
      "\u001b[1;31mKernel not initialized in Session. \n",
      "\u001b[1;31mView Jupyter <a href='command:jupyter.viewOutput'>log</a> for further details."
     ]
    }
   ],
   "source": [
    "#Plot for the 1700 event showers\n",
    "file_path_1700 = '/beegfs/desy/user/korcariw/CaloClouds/dataset/showers/photons_10_100GeV_float32_sorted_train.h5'\n",
    "plot_shower_data(file_path_1700)\n"
   ]
  },
  {
   "cell_type": "code",
   "execution_count": null,
   "metadata": {},
   "outputs": [
    {
     "ename": "",
     "evalue": "",
     "output_type": "error",
     "traceback": [
      "\u001b[1;31mFailed to start the Kernel. \n",
      "\u001b[1;31mJupyter notebook failed to launch. \n",
      "\u001b[1;31mKernel not initialized in Session. \n",
      "\u001b[1;31mView Jupyter <a href='command:jupyter.viewOutput'>log</a> for further details."
     ]
    }
   ],
   "source": [
    "def threedplot(file_path,event_number):\n",
    "    with h5py.File(file_path, 'r') as f:\n",
    "\n",
    "        \n",
    "        #importing the showers\n",
    "        dataset_showers = f['showers']\n",
    "        data_showers = dataset_showers[:]\n",
    "        \n",
    "    shower = data_showers[event_number]\n",
    "    \n",
    "    x, y, z, e = [shower[ :, i] for i in range(4)]\n",
    "    fig = plt.figure()\n",
    "    ax = fig.add_subplot(111, projection='3d')\n",
    "\n",
    "    ax.scatter(z, y, x, c=e, cmap='viridis') \n",
    "    ax.set_xlabel('Z')\n",
    "    ax.set_ylabel('Y')\n",
    "    ax.set_zlabel('X')\n",
    "    ax.view_init(elev=15, azim=-80)\n",
    "    \n",
    "    # Add a colorbar\n",
    "    norm = plt.Normalize(e.min(), e.max())  \n",
    "    sm = plt.cm.ScalarMappable(cmap='viridis', norm=norm) \n",
    "    sm.set_array([]) \n",
    "    fig.colorbar(sm, label='Energy in MeV') \n",
    "\n",
    "    \n",
    "    fig.tight_layout()\n",
    "    fig.savefig('./plots/threedplot.pdf')\n",
    "    \n"
   ]
  },
  {
   "cell_type": "code",
   "execution_count": null,
   "metadata": {},
   "outputs": [
    {
     "ename": "",
     "evalue": "",
     "output_type": "error",
     "traceback": [
      "\u001b[1;31mFailed to start the Kernel. \n",
      "\u001b[1;31mJupyter notebook failed to launch. \n",
      "\u001b[1;31mKernel not initialized in Session. \n",
      "\u001b[1;31mView Jupyter <a href='command:jupyter.viewOutput'>log</a> for further details."
     ]
    }
   ],
   "source": [
    "threedplot(file_path_500,2000)"
   ]
  },
  {
   "cell_type": "code",
   "execution_count": null,
   "metadata": {},
   "outputs": [
    {
     "ename": "",
     "evalue": "",
     "output_type": "error",
     "traceback": [
      "\u001b[1;31mFailed to start the Kernel. \n",
      "\u001b[1;31mJupyter notebook failed to launch. \n",
      "\u001b[1;31mKernel not initialized in Session. \n",
      "\u001b[1;31mView Jupyter <a href='command:jupyter.viewOutput'>log</a> for further details."
     ]
    }
   ],
   "source": [
    "def plot_shower_heatmap(file_path, filter_energy=60, threshold_energy=5):\n",
    "    with h5py.File(file_path, 'r') as f:\n",
    "        \n",
    "        #importing the total energy per shower\n",
    "        dataset_genE = f['genE']\n",
    "        data_genE = dataset_genE[:]\n",
    "        energy_total = data_genE[:]\n",
    "    \n",
    "        \n",
    "        #importing the showers\n",
    "        dataset_showers = f['showers']\n",
    "        data_showers = dataset_showers[:]\n",
    "    #extracting the size of the showers\n",
    "    size_of_event = len(data_showers[0])\n",
    "    \n",
    "    # Filter the data based on energy range\n",
    "    is_in_range = np.abs(energy_total - filter_energy) <= threshold_energy\n",
    "    selected_indices = np.where(is_in_range)[0]\n",
    "    filtered_data = data_showers[selected_indices]\n",
    "    \n",
    "    # Extract coordinates and energies\n",
    "    x, y, z, energy = [filtered_data[:, :, i] for i in range(4)]\n",
    "    x,y,z,energy = x.flatten(), y.flatten(), z.flatten(), energy.flatten()\n",
    "    \n",
    "    heatmap_xy = np.zeros((int(max(y)+1),int(max(y)+1)))\n",
    "    heatmap_zy = np.zeros((int(max(y)+1),int(max(y)+1)))\n",
    "    heatmap_zx = np.zeros((int(max(y)+1),int(max(y)+1)))\n",
    "    \n",
    "    # Fill heatmap with energy values\n",
    "    for i in range(len(x)):\n",
    "        heatmap_xy[int(y[i]), int(x[i])] += energy[i]\n",
    "        heatmap_zy[int(y[i]), int(z[i])] += energy[i]\n",
    "        heatmap_zx[int(z[i]), int(x[i])] += energy[i]\n",
    "\n",
    "    sigma = 1.3  # moothing strength (increase for more blur)\n",
    "    # Plot each heatmap\n",
    "    \n",
    "    fig, (ax_xy, ax_xz, ax_zy) = plt.subplots(1, 3, figsize=(15, 5))\n",
    "    for heatmap, ax in zip(heatmaps, [ax_xy, ax_xz, ax_zy]): \n",
    "        smoothed_heatmap = filters.gaussian_filter(heatmap, sigma)\n",
    "        im = ax.imshow(smoothed_heatmap, origin='lower')\n",
    "\n",
    "    # Add colorbar only to the last subplot\n",
    "    if ax == ax_zy: \n",
    "        fig.colorbar(im, ax=ax, label='Smoothed Energy') \n",
    "\n",
    "    ax.set_xlabel('X')\n",
    "    ax.set_ylabel('Y')  # Use 'Z' for xz and zy plots\n",
    "\n",
    "    # Titles \n",
    "    ax_xy.set_title('XY')\n",
    "    ax_xz.set_title('XZ')\n",
    "    ax_zy.set_title('ZY')\n",
    "\n",
    "    plt.tight_layout()  # Improve spacing\n",
    "    plt.show()\n",
    "    \n",
    "plot_shower_heatmap(file_path_500)"
   ]
  },
  {
   "cell_type": "code",
   "execution_count": null,
   "metadata": {},
   "outputs": [
    {
     "ename": "",
     "evalue": "",
     "output_type": "error",
     "traceback": [
      "\u001b[1;31mFailed to start the Kernel. \n",
      "\u001b[1;31mJupyter notebook failed to launch. \n",
      "\u001b[1;31mKernel not initialized in Session. \n",
      "\u001b[1;31mView Jupyter <a href='command:jupyter.viewOutput'>log</a> for further details."
     ]
    }
   ],
   "source": []
  }
 ],
 "metadata": {
  "kernelspec": {
   "display_name": "jupiter",
   "language": "python",
   "name": "python3"
  },
  "language_info": {
   "codemirror_mode": {
    "name": "ipython",
    "version": 3
   },
   "file_extension": ".py",
   "mimetype": "text/x-python",
   "name": "python",
   "nbconvert_exporter": "python",
   "pygments_lexer": "ipython3",
   "version": "3.11.0"
  }
 },
 "nbformat": 4,
 "nbformat_minor": 2
}
